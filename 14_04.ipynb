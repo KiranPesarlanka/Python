{
 "cells": [
  {
   "cell_type": "code",
   "execution_count": null,
   "metadata": {},
   "outputs": [],
   "source": [
    "# Broadcasting or stretching\n",
    "import numpy as np\n",
    "a = np.array([1, 2, 3, 4])\n",
    "b = np.array([2, 3, 8, 9])\n",
    "print(a + b)\n",
    "print('---------------')\n",
    "c = np.ones((2, 2))\n",
    "print(c)\n",
    "print('---------')\n",
    "a + c # Error"
   ]
  },
  {
   "cell_type": "markdown",
   "metadata": {},
   "source": [
    "## Explanation of above example\n"
   ]
  },
  {
   "cell_type": "markdown",
   "metadata": {},
   "source": [
    "# Rules of broadcasting\n",
    "\n",
    "1. If the arrays mismatched in dimensions then the array with fewer dimensions is padded on the left with the one.\n",
    "\n",
    "2. After applying rule 1, if any of the dimensions of the 2 arrays doesnot match then the mismatching dimension is strecthed to match the other array's dimension. The stretching always happens w.r.t that array whose value of the dimension is 1.\n",
    "\n",
    "3. After applying rule 2, if still there is a mismatch in the dimensions and error is raised"
   ]
  },
  {
   "cell_type": "code",
   "execution_count": 3,
   "metadata": {},
   "outputs": [
    {
     "name": "stdout",
     "output_type": "stream",
     "text": [
      "[[1. 1. 1.]\n",
      " [1. 1. 1.]]\n",
      "--------\n",
      "[0 1 2]\n",
      "--------\n",
      "[[1. 2. 3.]\n",
      " [1. 2. 3.]]\n"
     ]
    }
   ],
   "source": [
    "# Example 1\n",
    "a = np.ones((2, 3))\n",
    "b = np.arange(3)\n",
    "print(a)\n",
    "print('--------')\n",
    "print(b)\n",
    "print('--------')\n",
    "print(a + b)"
   ]
  },
  {
   "cell_type": "markdown",
   "metadata": {},
   "source": [
    "## Explanation of above example\n",
    "\n",
    "a.shape ==> (2, 3)\n",
    "b.shape ==> (3,)\n",
    "\n",
    "- After applying rule 1\n",
    "a.shape ==> (2, 3)\n",
    "b.shape ==> (1, 3) ==> Pad one to the left of array\n",
    "\n",
    "- After applying rule 2\n",
    "a.shape ==> (2, 3)\n",
    "b.shape ==> (2, 3) ==> stretch the array"
   ]
  },
  {
   "cell_type": "code",
   "execution_count": 4,
   "metadata": {},
   "outputs": [
    {
     "name": "stdout",
     "output_type": "stream",
     "text": [
      "[[1.]\n",
      " [1.]\n",
      " [1.]]\n",
      "--------\n",
      "[0 1 2]\n",
      "--------\n",
      "(3, 1)\n",
      "(3,)\n",
      "--------\n",
      "[[1. 2. 3.]\n",
      " [1. 2. 3.]\n",
      " [1. 2. 3.]]\n"
     ]
    }
   ],
   "source": [
    "# Example 2\n",
    "a = np.ones((3, 1))\n",
    "b = np.arange(3)\n",
    "print(a)\n",
    "print('--------')\n",
    "print(b)\n",
    "print('--------')\n",
    "print(a.shape)\n",
    "print(b.shape)\n",
    "print('--------')\n",
    "print(a + b)"
   ]
  },
  {
   "cell_type": "markdown",
   "metadata": {},
   "source": [
    "## Explanation of above example\n",
    "a.shape ==> (3, 1)\n",
    "b.shape ==> (3, )\n",
    "\n",
    "- After applying rule 1\n",
    "a.shape ==> (3, 1)\n",
    "b.shape ==> (1, 3)\n",
    "\n",
    "- After applying rule 2\n",
    "a.shape ==> (3, 1)\n",
    "b.shape ==> (3, 3)\n",
    "- Again rule 2 since one column is have value 1\n",
    "a.shape ==> (3, 3)\n",
    "b.shape ==> (3, 3)\n"
   ]
  },
  {
   "cell_type": "code",
   "execution_count": 5,
   "metadata": {},
   "outputs": [
    {
     "ename": "ValueError",
     "evalue": "operands could not be broadcast together with shapes (3,2) (3,) ",
     "output_type": "error",
     "traceback": [
      "\u001b[0;31m---------------------------------------------------------------------------\u001b[0m",
      "\u001b[0;31mValueError\u001b[0m                                Traceback (most recent call last)",
      "\u001b[0;32m<ipython-input-5-3fec64f4711c>\u001b[0m in \u001b[0;36m<module>\u001b[0;34m\u001b[0m\n\u001b[1;32m      3\u001b[0m \u001b[0mb\u001b[0m \u001b[0;34m=\u001b[0m \u001b[0mnp\u001b[0m\u001b[0;34m.\u001b[0m\u001b[0marange\u001b[0m\u001b[0;34m(\u001b[0m\u001b[0;36m3\u001b[0m\u001b[0;34m)\u001b[0m\u001b[0;34m\u001b[0m\u001b[0;34m\u001b[0m\u001b[0m\n\u001b[1;32m      4\u001b[0m \u001b[0;34m\u001b[0m\u001b[0m\n\u001b[0;32m----> 5\u001b[0;31m \u001b[0ma\u001b[0m \u001b[0;34m+\u001b[0m \u001b[0mb\u001b[0m\u001b[0;34m\u001b[0m\u001b[0;34m\u001b[0m\u001b[0m\n\u001b[0m",
      "\u001b[0;31mValueError\u001b[0m: operands could not be broadcast together with shapes (3,2) (3,) "
     ]
    }
   ],
   "source": [
    "# Example 3 \n",
    "a = np.ones((3, 2))\n",
    "b = np.arange(3)\n",
    "\n",
    "a + b"
   ]
  },
  {
   "cell_type": "markdown",
   "metadata": {},
   "source": [
    "# Explanation of above example\n",
    "a.shape ==> (3, 2)\n",
    "b.shape ==> (3, )\n",
    "\n",
    "- After applying rule 1\n",
    "a.shape ==> (3, 2)\n",
    "b.shape ==> (1, 3)\n",
    "\n",
    "#### Array A\n",
    "\n",
    "| 1st col | 2nd col |\n",
    "| --- | --- |\n",
    "| 1 | 1 |\n",
    "| 1 | 1 |\n",
    "| 1 | 1 |\n",
    "\n",
    "#### Array B\n",
    "\n",
    "|col 1 | col 2 | col 3|\n",
    "| ----- | ----- | ---- |\n",
    "| 1 | 2 | 3 |\n",
    "\n",
    "- After applying rule 2\n",
    "a.shape(3, 2)\n",
    "b.shape(3, 3)\n",
    "\n",
    "#### Array A\n",
    "| 1st col | 2nd col |\n",
    "| --- | --- |\n",
    "| 1 | 1 |\n",
    "| 1 | 1 |\n",
    "| 1 | 1 |\n",
    "\n",
    "#### Array B\n",
    "\n",
    "| 1st col | 2nd col | 3rd col |\n",
    "| --- | --- | ---- |\n",
    "| 1 | 1 | 1 |\n",
    "| 1 | 1 | 1 | \n",
    "| 1 | 1 | 1 |\n",
    "\n",
    "- Still there is mismatch of dimensions error raises"
   ]
  },
  {
   "cell_type": "code",
   "execution_count": 12,
   "metadata": {},
   "outputs": [
    {
     "name": "stdout",
     "output_type": "stream",
     "text": [
      "[0 1 2]\n",
      "--------\n",
      "[[0]\n",
      " [1]\n",
      " [2]]\n",
      "--------\n",
      "(3, 1)\n"
     ]
    }
   ],
   "source": [
    "\"\"\"\n",
    "Adding a new dimension to the array\n",
    "np.newaxis can be used to add a new dimension to an array when it is being indexed. \n",
    "Upon using newaxis once\n",
    "    - 1 dim array becomes 2 dim\n",
    "    - 2 dim array becomes 3 dim\n",
    "    - 3 dim array bexcomes 4 dim and ...\n",
    "\"\"\"\n",
    "a = np.arange(3)\n",
    "print(a)\n",
    "print('--------')\n",
    "b = a[:, np.newaxis]\n",
    "print(b)\n",
    "print('--------')\n",
    "print(b.shape)"
   ]
  },
  {
   "cell_type": "code",
   "execution_count": 11,
   "metadata": {},
   "outputs": [
    {
     "name": "stdout",
     "output_type": "stream",
     "text": [
      "[[1. 1. 1.]\n",
      " [1. 1. 1.]\n",
      " [1. 1. 1.]]\n"
     ]
    },
    {
     "data": {
      "text/plain": [
       "array([[[[1., 1., 1.]]],\n",
       "\n",
       "\n",
       "       [[[1., 1., 1.]]],\n",
       "\n",
       "\n",
       "       [[[1., 1., 1.]]]])"
      ]
     },
     "execution_count": 11,
     "metadata": {},
     "output_type": "execute_result"
    }
   ],
   "source": [
    "b = np.ones((3, 3))\n",
    "print(b)\n",
    "b[:, np.newaxis, np.newaxis, :]"
   ]
  },
  {
   "cell_type": "code",
   "execution_count": null,
   "metadata": {},
   "outputs": [],
   "source": []
  }
 ],
 "metadata": {
  "kernelspec": {
   "display_name": "Python 3",
   "language": "python",
   "name": "python3"
  },
  "language_info": {
   "codemirror_mode": {
    "name": "ipython",
    "version": 3
   },
   "file_extension": ".py",
   "mimetype": "text/x-python",
   "name": "python",
   "nbconvert_exporter": "python",
   "pygments_lexer": "ipython3",
   "version": "3.7.2"
  }
 },
 "nbformat": 4,
 "nbformat_minor": 2
}
