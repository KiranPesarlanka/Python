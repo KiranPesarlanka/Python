{
 "cells": [
  {
   "cell_type": "markdown",
   "metadata": {},
   "source": [
    "# Unittest ==> Ref: https://docs.python.org/3/library/unittest.html\n",
    "- unittest has been built into the Python standard library since version 2.1. You’ll probably see it in commercial Python applications and open-source projects.\n",
    "- unittest contains both a testing framework and a test runner. unittest has some important requirements for writing and executing tests.\n",
    "- unittest requires that:\n",
    "    - You put your tests into classes as methods\n",
    "    - You use a series of special assertion methods in the unittest.TestCase class instead of the built-in assert statement"
   ]
  },
  {
   "cell_type": "markdown",
   "metadata": {},
   "source": [
    "## To convert the earlier example to a unittest test case, you would have to:\n",
    "\n",
    "- Import unittest from the standard library\n",
    "- Create a class called TestSum that inherits from the TestCase class\n",
    "- Convert the test functions into methods by adding self as the first argument\n",
    "- Change the assertions to use the self.assertEqual() method on the TestCase class\n",
    "- Change the command-line entry point to call unittest.main()"
   ]
  },
  {
   "cell_type": "code",
   "execution_count": 1,
   "metadata": {},
   "outputs": [
    {
     "name": "stderr",
     "output_type": "stream",
     "text": [
      ".F\n",
      "======================================================================\n",
      "FAIL: test_sum_tuple (__main__.TestSum)\n",
      "----------------------------------------------------------------------\n",
      "Traceback (most recent call last):\n",
      "  File \"<ipython-input-1-09548218216c>\", line 9, in test_sum_tuple\n",
      "    self.assertEqual(sum((1, 2, 2)), 6, \"should be 6\")\n",
      "AssertionError: 5 != 6 : should be 6\n",
      "\n",
      "----------------------------------------------------------------------\n",
      "Ran 2 tests in 0.003s\n",
      "\n",
      "FAILED (failures=1)\n"
     ]
    }
   ],
   "source": [
    "import unittest\n",
    "\n",
    "class TestSum(unittest.TestCase):\n",
    "    \n",
    "    def test_sum(self):\n",
    "        self.assertEqual(sum([1, 2, 3]), 6, \"should be 6\")\n",
    "        \n",
    "    def test_sum_tuple(self):\n",
    "        self.assertEqual(sum((1, 2, 2)), 6, \"should be 6\")\n",
    "        \n",
    "if __name__ == \"__main__\":\n",
    "    #unittest.main() # Raising Errors\n",
    "    '''\n",
    "    unittest.main looks at sys.argv by default, which is what started IPython, \n",
    "    hence the error about the kernel connection file not being a valid attribute. \n",
    "    You can pass an explicit list to main to avoid looking up sys.argv.\n",
    "    Ref: https://stackoverflow.com/a/38012249\n",
    "    '''\n",
    "    unittest.main(argv=['first-arg-is-ignored'], exit=False)"
   ]
  },
  {
   "cell_type": "markdown",
   "metadata": {},
   "source": [
    "# Nose ==> Ref: https://nose2.readthedocs.io/en/latest/\n",
    "You may find that over time, as you write hundreds or even thousands of tests for your application, it becomes increasingly hard to understand and use the output from unittest.\n",
    "\n",
    "nose is compatible with any tests written using the unittest framework and can be used as a drop-in replacement for the unittest test runner. The development of nose as an open-source application fell behind, and a fork called nose2 was created. If you’re starting from scratch, it is recommended that you use nose2 instead of nose.\n",
    "\n",
    "To get started with nose2, install nose2 from PyPI and execute it on the command line. nose2 will try to discover all test scripts named test*.py and test cases inheriting from unittest.TestCase in your current directory:"
   ]
  },
  {
   "cell_type": "code",
   "execution_count": 2,
   "metadata": {},
   "outputs": [
    {
     "ename": "ModuleNotFoundError",
     "evalue": "No module named 'nose2'",
     "output_type": "error",
     "traceback": [
      "\u001b[0;31m---------------------------------------------------------------------------\u001b[0m",
      "\u001b[0;31mModuleNotFoundError\u001b[0m                       Traceback (most recent call last)",
      "\u001b[0;32m<ipython-input-2-596c5cdf0402>\u001b[0m in \u001b[0;36m<module>\u001b[0;34m\u001b[0m\n\u001b[0;32m----> 1\u001b[0;31m \u001b[0;32mimport\u001b[0m \u001b[0mnose2\u001b[0m\u001b[0;34m\u001b[0m\u001b[0;34m\u001b[0m\u001b[0m\n\u001b[0m",
      "\u001b[0;31mModuleNotFoundError\u001b[0m: No module named 'nose2'"
     ]
    }
   ],
   "source": [
    "import nose2"
   ]
  },
  {
   "cell_type": "code",
   "execution_count": null,
   "metadata": {},
   "outputs": [],
   "source": [
    "python -m nose2"
   ]
  },
  {
   "cell_type": "markdown",
   "metadata": {},
   "source": [
    "You have just executed the test you created in test_sum_unittest.py from the nose2 test runner. nose2 offers many command-line flags for filtering the tests that you execute."
   ]
  },
  {
   "cell_type": "markdown",
   "metadata": {},
   "source": [
    "# pytest ==> Ref: https://docs.pytest.org/en/latest/\n",
    "\n",
    "- pytest supports execution of unittest test cases. \n",
    "- The real advantage of pytest comes by writing pytest test cases. \n",
    "- pytest test cases are a series of functions in a Python file starting with the name test_.\n",
    "\n",
    "- pytest has some other great features:\n",
    "    - Support for the built-in assert statement instead of using special self.assert*() methods\n",
    "    - Support for filtering for test cases\n",
    "    - Ability to rerun from the last failing test\n",
    "    - An ecosystem of hundreds of plugins to extend the functionality"
   ]
  },
  {
   "cell_type": "code",
   "execution_count": 4,
   "metadata": {},
   "outputs": [],
   "source": [
    "def test_sum():\n",
    "    assert sum([1, 2, 3]) == 6, \"Should be 6\"\n",
    "\n",
    "def test_sum_tuple():\n",
    "    assert sum((1, 2, 2)) == 6, \"Should be 6\""
   ]
  }
 ],
 "metadata": {
  "kernelspec": {
   "display_name": "Python 3",
   "language": "python",
   "name": "python3"
  },
  "language_info": {
   "codemirror_mode": {
    "name": "ipython",
    "version": 3
   },
   "file_extension": ".py",
   "mimetype": "text/x-python",
   "name": "python",
   "nbconvert_exporter": "python",
   "pygments_lexer": "ipython3",
   "version": "3.7.2"
  }
 },
 "nbformat": 4,
 "nbformat_minor": 2
}
