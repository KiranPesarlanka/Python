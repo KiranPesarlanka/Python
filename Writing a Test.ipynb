{
 "cells": [
  {
   "cell_type": "markdown",
   "metadata": {},
   "source": [
    "# Writing Your First Test\n",
    "Create a new project folder and, inside that, create a new folder called my_sum. Inside my_sum, create an empty file called __init__.py. Creating the __init__.py file means that the my_sum folder can be imported as a module from the parent directory.\n",
    "\n",
    "\n",
    "Your project folder should look like this:\n",
    "\n",
    "project/  \n",
    "│  \n",
    "└── my_sum/  ==>  __init__.py  \n",
    "\n",
    "Open up my_sum/__init__.py and create a new function called sum(), which takes an iterable (a list, tuple, or set) and adds the values together."
   ]
  },
  {
   "cell_type": "markdown",
   "metadata": {},
   "source": [
    "# Where to Write the Test\n",
    "\n",
    "To get started writing tests, you can simply create a file called test.py, which will contain your first test case. Because the file will need to be able to import your application to be able to test it, you want to place test.py above the package folder, so your directory tree will look something like this:\n",
    "\n",
    "project/  \n",
    "│  \n",
    "├── my_sum/  \n",
    "│   └── __init__.py  \n",
    "|  \n",
    "└── test.py  \n",
    "\n",
    "You’ll find that, as you add more and more tests, your single file will become cluttered and hard to maintain, so you can create a folder called tests/ and split the tests into multiple files. It is convention to ensure each file starts with test_ so all test runners will assume that Python file contains tests to be executed. Some very large projects split tests into more subdirectories based on their purpose or usage.\n"
   ]
  },
  {
   "cell_type": "markdown",
   "metadata": {},
   "source": [
    "Note: What if your application is a single script?\n",
    "\n",
    "You can import any attributes of the script, such as classes, functions, and variables by using the built-in __import__() function. Instead of from my_sum import sum, you can write the following:\n",
    "\n",
    "target = __import__(\"my_sum.py\")\n",
    "sum = target.sum\n",
    "The benefit of using __import__() is that you don’t have to turn your project folder into a package, and you can specify the file name. This is also useful if your filename collides with any standard library packages. For example, math.py would collide with the math module."
   ]
  },
  {
   "cell_type": "markdown",
   "metadata": {},
   "source": [
    "# How to Structure a Simple Test\n",
    "\n",
    "- Before you dive into writing tests, you’ll want to first make a couple of decisions:\n",
    "\n",
    "    - What do you want to test?\n",
    "    - Are you writing a unit test or an integration test?\n",
    "\n",
    "- Then the structure of a test should loosely follow this workflow:\n",
    "\n",
    "    - Create your inputs\n",
    "    - Execute the code being tested, capturing the output\n",
    "    - Compare the output with an expected result\n"
   ]
  },
  {
   "cell_type": "code",
   "execution_count": null,
   "metadata": {},
   "outputs": [],
   "source": []
  }
 ],
 "metadata": {
  "kernelspec": {
   "display_name": "Python 3",
   "language": "python",
   "name": "python3"
  },
  "language_info": {
   "codemirror_mode": {
    "name": "ipython",
    "version": 3
   },
   "file_extension": ".py",
   "mimetype": "text/x-python",
   "name": "python",
   "nbconvert_exporter": "python",
   "pygments_lexer": "ipython3",
   "version": "3.7.2"
  }
 },
 "nbformat": 4,
 "nbformat_minor": 2
}
